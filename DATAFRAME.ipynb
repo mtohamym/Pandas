{
  "nbformat": 4,
  "nbformat_minor": 0,
  "metadata": {
    "colab": {
      "name": "DATAFRAME.ipynb",
      "provenance": [],
      "collapsed_sections": [
        "stbgO-Y5W2Ck",
        "4uPtCZ53WUhY"
      ],
      "authorship_tag": "ABX9TyP1/PxV3q1Voo8i8iPeJYw3",
      "include_colab_link": true
    },
    "kernelspec": {
      "name": "python3",
      "display_name": "Python 3"
    }
  },
  "cells": [
    {
      "cell_type": "markdown",
      "metadata": {
        "id": "view-in-github",
        "colab_type": "text"
      },
      "source": [
        "<a href=\"https://colab.research.google.com/github/mtohamym/Pandas/blob/main/DATAFRAME.ipynb\" target=\"_parent\"><img src=\"https://colab.research.google.com/assets/colab-badge.svg\" alt=\"Open In Colab\"/></a>"
      ]
    },
    {
      "cell_type": "markdown",
      "metadata": {
        "id": "stbgO-Y5W2Ck"
      },
      "source": [
        "# **Numpy array to Dataframe**"
      ]
    },
    {
      "cell_type": "code",
      "metadata": {
        "id": "vHSoydRzAgFr"
      },
      "source": [
        "import pandas as pd\n"
      ],
      "execution_count": 2,
      "outputs": []
    },
    {
      "cell_type": "code",
      "metadata": {
        "id": "n9fCApZ_A2x7"
      },
      "source": [
        "import numpy as np\n"
      ],
      "execution_count": 3,
      "outputs": []
    },
    {
      "cell_type": "code",
      "metadata": {
        "id": "dqHSvkMXA_ib"
      },
      "source": [
        "grades = np.array([[66,80,90,40,100],\n",
        "                  [50,60,70,80,90],\n",
        "                  [45,55,65,78,82],\n",
        "                  [100,50,50,70,10],\n",
        "                  [5,60,80,45,65]])"
      ],
      "execution_count": 16,
      "outputs": []
    },
    {
      "cell_type": "code",
      "metadata": {
        "id": "fU73EyIrB7S8"
      },
      "source": [
        "coursesnames = ['Math 1' , 'Programming' , 'Database1' , 'Algorithms' , 'Datamining']"
      ],
      "execution_count": 12,
      "outputs": []
    },
    {
      "cell_type": "code",
      "metadata": {
        "id": "H04poF2jC-W_"
      },
      "source": [
        "students = ['tohamy' , 'mohammed' , 'mostafa' , 'kareem' , 'hesham']"
      ],
      "execution_count": 13,
      "outputs": []
    },
    {
      "cell_type": "code",
      "metadata": {
        "id": "DcikyzDnDMOS"
      },
      "source": [
        "sgrades = pd.DataFrame(grades , index=students , columns=coursesnames)"
      ],
      "execution_count": 17,
      "outputs": []
    },
    {
      "cell_type": "code",
      "metadata": {
        "id": "JFPchJUsEk_y",
        "outputId": "3381ae7e-c5ce-44c5-96fc-d8ad0df740ff",
        "colab": {
          "base_uri": "https://localhost:8080/",
          "height": 206
        }
      },
      "source": [
        "sgrades"
      ],
      "execution_count": 18,
      "outputs": [
        {
          "output_type": "execute_result",
          "data": {
            "text/html": [
              "<div>\n",
              "<style scoped>\n",
              "    .dataframe tbody tr th:only-of-type {\n",
              "        vertical-align: middle;\n",
              "    }\n",
              "\n",
              "    .dataframe tbody tr th {\n",
              "        vertical-align: top;\n",
              "    }\n",
              "\n",
              "    .dataframe thead th {\n",
              "        text-align: right;\n",
              "    }\n",
              "</style>\n",
              "<table border=\"1\" class=\"dataframe\">\n",
              "  <thead>\n",
              "    <tr style=\"text-align: right;\">\n",
              "      <th></th>\n",
              "      <th>Math 1</th>\n",
              "      <th>Programming</th>\n",
              "      <th>Database1</th>\n",
              "      <th>Algorithms</th>\n",
              "      <th>Datamining</th>\n",
              "    </tr>\n",
              "  </thead>\n",
              "  <tbody>\n",
              "    <tr>\n",
              "      <th>tohamy</th>\n",
              "      <td>66</td>\n",
              "      <td>80</td>\n",
              "      <td>90</td>\n",
              "      <td>40</td>\n",
              "      <td>100</td>\n",
              "    </tr>\n",
              "    <tr>\n",
              "      <th>mohammed</th>\n",
              "      <td>50</td>\n",
              "      <td>60</td>\n",
              "      <td>70</td>\n",
              "      <td>80</td>\n",
              "      <td>90</td>\n",
              "    </tr>\n",
              "    <tr>\n",
              "      <th>mostafa</th>\n",
              "      <td>45</td>\n",
              "      <td>55</td>\n",
              "      <td>65</td>\n",
              "      <td>78</td>\n",
              "      <td>82</td>\n",
              "    </tr>\n",
              "    <tr>\n",
              "      <th>kareem</th>\n",
              "      <td>100</td>\n",
              "      <td>50</td>\n",
              "      <td>50</td>\n",
              "      <td>70</td>\n",
              "      <td>10</td>\n",
              "    </tr>\n",
              "    <tr>\n",
              "      <th>hesham</th>\n",
              "      <td>5</td>\n",
              "      <td>60</td>\n",
              "      <td>80</td>\n",
              "      <td>45</td>\n",
              "      <td>65</td>\n",
              "    </tr>\n",
              "  </tbody>\n",
              "</table>\n",
              "</div>"
            ],
            "text/plain": [
              "          Math 1  Programming  Database1  Algorithms  Datamining\n",
              "tohamy        66           80         90          40         100\n",
              "mohammed      50           60         70          80          90\n",
              "mostafa       45           55         65          78          82\n",
              "kareem       100           50         50          70          10\n",
              "hesham         5           60         80          45          65"
            ]
          },
          "metadata": {
            "tags": []
          },
          "execution_count": 18
        }
      ]
    },
    {
      "cell_type": "markdown",
      "metadata": {
        "id": "Rd2pS8ClOqcz"
      },
      "source": [
        "\n",
        "\n",
        "---\n",
        "\n"
      ]
    },
    {
      "cell_type": "markdown",
      "metadata": {
        "id": "4uPtCZ53WUhY"
      },
      "source": [
        "# **series dictionary to Data frame**"
      ]
    },
    {
      "cell_type": "code",
      "metadata": {
        "id": "K6ik3rp_QvZD"
      },
      "source": [
        "math1s = pd.Series({'tohamy' : 66,'mohammed' : 50,'mostafa' : 45,'kareem' : 100,'hesham' : 5} , name='math1')"
      ],
      "execution_count": 61,
      "outputs": []
    },
    {
      "cell_type": "code",
      "metadata": {
        "id": "BAlPHlCcRmhr"
      },
      "source": [
        "Dataminings = pd.Series({'tohamy' : 100,'mohammed' : 90,'mostafa' : 82,'kareem' : 10,'hesham' : 65}, name='Datamining')\n"
      ],
      "execution_count": 62,
      "outputs": []
    },
    {
      "cell_type": "code",
      "metadata": {
        "id": "q3Q_w9BpRlfj"
      },
      "source": [
        "Algorithmss = pd.Series({'tohamy' : 40,'mohammed' : 80,'mostafa' : 78,'kareem' : 70,'hesham' : 45}, name='Algorithms')\n"
      ],
      "execution_count": 63,
      "outputs": []
    },
    {
      "cell_type": "code",
      "metadata": {
        "id": "PmBzy-rcRjBe"
      },
      "source": [
        "Programmings = pd.Series({'tohamy' : 80,'mohammed' : 60,'mostafa' : 55,'kareem' : 50,'hesham' : 60}, name='Programming')\n"
      ],
      "execution_count": 64,
      "outputs": []
    },
    {
      "cell_type": "code",
      "metadata": {
        "id": "dO7N5aTQRj8W"
      },
      "source": [
        "Database1s = pd.Series({'tohamy' : 90,'mohammed' : 70,'mostafa' : 65,'kareem' : 50,'hesham' : 80}, name='Database1')\n"
      ],
      "execution_count": 65,
      "outputs": []
    },
    {
      "cell_type": "code",
      "metadata": {
        "id": "VTOli8yMR5xE"
      },
      "source": [
        "sgrades = pd.DataFrame({'math' : math1s , 'Programmings' :Programmings ,'Database1s' :Database1s,'Algorithmss' :Algorithmss,'Dataminings' :Dataminings} , index=students , )"
      ],
      "execution_count": 66,
      "outputs": []
    },
    {
      "cell_type": "code",
      "metadata": {
        "id": "XnXEDv0fSR1s",
        "outputId": "899dabc1-205a-442c-97bd-5e12c952ea6d",
        "colab": {
          "base_uri": "https://localhost:8080/",
          "height": 206
        }
      },
      "source": [
        "sgrades"
      ],
      "execution_count": 67,
      "outputs": [
        {
          "output_type": "execute_result",
          "data": {
            "text/html": [
              "<div>\n",
              "<style scoped>\n",
              "    .dataframe tbody tr th:only-of-type {\n",
              "        vertical-align: middle;\n",
              "    }\n",
              "\n",
              "    .dataframe tbody tr th {\n",
              "        vertical-align: top;\n",
              "    }\n",
              "\n",
              "    .dataframe thead th {\n",
              "        text-align: right;\n",
              "    }\n",
              "</style>\n",
              "<table border=\"1\" class=\"dataframe\">\n",
              "  <thead>\n",
              "    <tr style=\"text-align: right;\">\n",
              "      <th></th>\n",
              "      <th>math</th>\n",
              "      <th>Programmings</th>\n",
              "      <th>Database1s</th>\n",
              "      <th>Algorithmss</th>\n",
              "      <th>Dataminings</th>\n",
              "    </tr>\n",
              "  </thead>\n",
              "  <tbody>\n",
              "    <tr>\n",
              "      <th>tohamy</th>\n",
              "      <td>66</td>\n",
              "      <td>80</td>\n",
              "      <td>90</td>\n",
              "      <td>40</td>\n",
              "      <td>100</td>\n",
              "    </tr>\n",
              "    <tr>\n",
              "      <th>mohammed</th>\n",
              "      <td>50</td>\n",
              "      <td>60</td>\n",
              "      <td>70</td>\n",
              "      <td>80</td>\n",
              "      <td>90</td>\n",
              "    </tr>\n",
              "    <tr>\n",
              "      <th>mostafa</th>\n",
              "      <td>45</td>\n",
              "      <td>55</td>\n",
              "      <td>65</td>\n",
              "      <td>78</td>\n",
              "      <td>82</td>\n",
              "    </tr>\n",
              "    <tr>\n",
              "      <th>kareem</th>\n",
              "      <td>100</td>\n",
              "      <td>50</td>\n",
              "      <td>50</td>\n",
              "      <td>70</td>\n",
              "      <td>10</td>\n",
              "    </tr>\n",
              "    <tr>\n",
              "      <th>hesham</th>\n",
              "      <td>5</td>\n",
              "      <td>60</td>\n",
              "      <td>80</td>\n",
              "      <td>45</td>\n",
              "      <td>65</td>\n",
              "    </tr>\n",
              "  </tbody>\n",
              "</table>\n",
              "</div>"
            ],
            "text/plain": [
              "          math  Programmings  Database1s  Algorithmss  Dataminings\n",
              "tohamy      66            80          90           40          100\n",
              "mohammed    50            60          70           80           90\n",
              "mostafa     45            55          65           78           82\n",
              "kareem     100            50          50           70           10\n",
              "hesham       5            60          80           45           65"
            ]
          },
          "metadata": {
            "tags": []
          },
          "execution_count": 67
        }
      ]
    }
  ]
}