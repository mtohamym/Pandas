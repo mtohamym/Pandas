{
  "nbformat": 4,
  "nbformat_minor": 0,
  "metadata": {
    "colab": {
      "name": "series",
      "provenance": [],
      "authorship_tag": "ABX9TyNnfUIGPV231/bRFl1N6/gh",
      "include_colab_link": true
    },
    "kernelspec": {
      "name": "python3",
      "display_name": "Python 3"
    }
  },
  "cells": [
    {
      "cell_type": "markdown",
      "metadata": {
        "id": "view-in-github",
        "colab_type": "text"
      },
      "source": [
        "<a href=\"https://colab.research.google.com/github/mtohamym/Pandas/blob/main/Series.ipynb\" target=\"_parent\"><img src=\"https://colab.research.google.com/assets/colab-badge.svg\" alt=\"Open In Colab\"/></a>"
      ]
    },
    {
      "cell_type": "markdown",
      "metadata": {
        "id": "XT828H2Blywa"
      },
      "source": [
        "# **Example SERIES** "
      ]
    },
    {
      "cell_type": "markdown",
      "metadata": {
        "id": "uzL8g7c4evwp"
      },
      "source": [
        "**import Panads Lib**"
      ]
    },
    {
      "cell_type": "code",
      "metadata": {
        "id": "rcCbQFndaUIn"
      },
      "source": [
        "import pandas as pd\n"
      ],
      "execution_count": 77,
      "outputs": []
    },
    {
      "cell_type": "markdown",
      "metadata": {
        "id": "n3vnORpheu7T"
      },
      "source": [
        "**Create** Series"
      ]
    },
    {
      "cell_type": "code",
      "metadata": {
        "id": "_4KVi8eTag62"
      },
      "source": [
        "grades = pd.Series([12,25,64,45] , ['1' , '2' , '3' , '4'], name=\"grades\" )"
      ],
      "execution_count": 78,
      "outputs": []
    },
    {
      "cell_type": "markdown",
      "metadata": {
        "id": "kVbm5q6Se_7D"
      },
      "source": [
        "**print grades**"
      ]
    },
    {
      "cell_type": "code",
      "metadata": {
        "id": "1vHr6ynsbBr0",
        "outputId": "068cdbe1-d4a4-4598-b53f-c56d644a4d54",
        "colab": {
          "base_uri": "https://localhost:8080/"
        }
      },
      "source": [
        "grades"
      ],
      "execution_count": 79,
      "outputs": [
        {
          "output_type": "execute_result",
          "data": {
            "text/plain": [
              "1    12\n",
              "2    25\n",
              "3    64\n",
              "4    45\n",
              "Name: grades, dtype: int64"
            ]
          },
          "metadata": {
            "tags": []
          },
          "execution_count": 79
        }
      ]
    },
    {
      "cell_type": "markdown",
      "metadata": {
        "id": "sXBjpKcEiPD1"
      },
      "source": [
        "**Get max in Series**"
      ]
    },
    {
      "cell_type": "code",
      "metadata": {
        "id": "vGmdj7B7iKk9",
        "outputId": "16c94424-1cf2-4056-92b6-594011365035",
        "colab": {
          "base_uri": "https://localhost:8080/"
        }
      },
      "source": [
        "grades.max()"
      ],
      "execution_count": 89,
      "outputs": [
        {
          "output_type": "execute_result",
          "data": {
            "text/plain": [
              "64"
            ]
          },
          "metadata": {
            "tags": []
          },
          "execution_count": 89
        }
      ]
    },
    {
      "cell_type": "markdown",
      "metadata": {
        "id": "T5whtA_TibMV"
      },
      "source": [
        "**Check Using index**"
      ]
    },
    {
      "cell_type": "code",
      "metadata": {
        "id": "htHeOHO7igmC",
        "outputId": "b81f99af-9a1d-4772-eb62-c505291dec19",
        "colab": {
          "base_uri": "https://localhost:8080/"
        }
      },
      "source": [
        "'1' in grades"
      ],
      "execution_count": 81,
      "outputs": [
        {
          "output_type": "execute_result",
          "data": {
            "text/plain": [
              "True"
            ]
          },
          "metadata": {
            "tags": []
          },
          "execution_count": 81
        }
      ]
    },
    {
      "cell_type": "markdown",
      "metadata": {
        "id": "HeSXhuGZj6LT"
      },
      "source": [
        "**Sort Values**"
      ]
    },
    {
      "cell_type": "code",
      "metadata": {
        "id": "-uRmRBCQjQi7",
        "outputId": "f2937963-e36f-41fe-a57c-eff32dc7aec4",
        "colab": {
          "base_uri": "https://localhost:8080/"
        }
      },
      "source": [
        "grades.sort_values()"
      ],
      "execution_count": 82,
      "outputs": [
        {
          "output_type": "execute_result",
          "data": {
            "text/plain": [
              "1    12\n",
              "2    25\n",
              "4    45\n",
              "3    64\n",
              "Name: grades, dtype: int64"
            ]
          },
          "metadata": {
            "tags": []
          },
          "execution_count": 82
        }
      ]
    },
    {
      "cell_type": "markdown",
      "metadata": {
        "id": "KmHrx-dwfD7o"
      },
      "source": [
        "**Access with index**"
      ]
    },
    {
      "cell_type": "code",
      "metadata": {
        "id": "t0lkE_mmbgT1",
        "outputId": "87188932-ab09-45da-d00e-b7cbfea66485",
        "colab": {
          "base_uri": "https://localhost:8080/"
        }
      },
      "source": [
        "grades['1']"
      ],
      "execution_count": 83,
      "outputs": [
        {
          "output_type": "execute_result",
          "data": {
            "text/plain": [
              "12"
            ]
          },
          "metadata": {
            "tags": []
          },
          "execution_count": 83
        }
      ]
    },
    {
      "cell_type": "markdown",
      "metadata": {
        "id": "YJegEMGXfOKA"
      },
      "source": [
        "**print indexes**"
      ]
    },
    {
      "cell_type": "code",
      "metadata": {
        "id": "nhnZChileITY",
        "outputId": "5b444d1e-6b06-48db-e1ec-293707d325e2",
        "colab": {
          "base_uri": "https://localhost:8080/"
        }
      },
      "source": [
        "grades.index"
      ],
      "execution_count": 84,
      "outputs": [
        {
          "output_type": "execute_result",
          "data": {
            "text/plain": [
              "Index(['1', '2', '3', '4'], dtype='object')"
            ]
          },
          "metadata": {
            "tags": []
          },
          "execution_count": 84
        }
      ]
    },
    {
      "cell_type": "markdown",
      "metadata": {
        "id": "FFK_bl5HlMFj"
      },
      "source": [
        "**print values**"
      ]
    },
    {
      "cell_type": "code",
      "metadata": {
        "id": "ttK911mmlHOa",
        "outputId": "b25d0763-c26d-495b-831d-18cb93b640da",
        "colab": {
          "base_uri": "https://localhost:8080/"
        }
      },
      "source": [
        "grades.values"
      ],
      "execution_count": 85,
      "outputs": [
        {
          "output_type": "execute_result",
          "data": {
            "text/plain": [
              "array([12, 25, 64, 45])"
            ]
          },
          "metadata": {
            "tags": []
          },
          "execution_count": 85
        }
      ]
    },
    {
      "cell_type": "markdown",
      "metadata": {
        "id": "0k5yjPtClpNC"
      },
      "source": [
        "**get description about series**"
      ]
    },
    {
      "cell_type": "code",
      "metadata": {
        "id": "Z0LcztwtlWSz",
        "outputId": "1d240657-cc19-4741-da32-21076521fa12",
        "colab": {
          "base_uri": "https://localhost:8080/"
        }
      },
      "source": [
        "grades.describe()"
      ],
      "execution_count": 86,
      "outputs": [
        {
          "output_type": "execute_result",
          "data": {
            "text/plain": [
              "count     4.000000\n",
              "mean     36.500000\n",
              "std      22.810816\n",
              "min      12.000000\n",
              "25%      21.750000\n",
              "50%      35.000000\n",
              "75%      49.750000\n",
              "max      64.000000\n",
              "Name: grades, dtype: float64"
            ]
          },
          "metadata": {
            "tags": []
          },
          "execution_count": 86
        }
      ]
    },
    {
      "cell_type": "code",
      "metadata": {
        "id": "rtqmxJoQm6MT",
        "outputId": "a44cd41f-3ebc-4bf6-fca4-10c2521e3d53",
        "colab": {
          "base_uri": "https://localhost:8080/"
        }
      },
      "source": [
        "grades.agg(['max' , 'min' , 'sum'])"
      ],
      "execution_count": 87,
      "outputs": [
        {
          "output_type": "execute_result",
          "data": {
            "text/plain": [
              "max     64\n",
              "min     12\n",
              "sum    146\n",
              "Name: grades, dtype: int64"
            ]
          },
          "metadata": {
            "tags": []
          },
          "execution_count": 87
        }
      ]
    },
    {
      "cell_type": "markdown",
      "metadata": {
        "id": "FTKCMhZDhd2R"
      },
      "source": [
        "**Series to numpy**"
      ]
    },
    {
      "cell_type": "code",
      "metadata": {
        "id": "SKTrJeIShP7D",
        "outputId": "bc54a07b-78c8-4a12-ad43-0283fd1ececb",
        "colab": {
          "base_uri": "https://localhost:8080/"
        }
      },
      "source": [
        "grades.to_numpy()"
      ],
      "execution_count": 88,
      "outputs": [
        {
          "output_type": "execute_result",
          "data": {
            "text/plain": [
              "array([12, 25, 64, 45])"
            ]
          },
          "metadata": {
            "tags": []
          },
          "execution_count": 88
        }
      ]
    }
  ]
}