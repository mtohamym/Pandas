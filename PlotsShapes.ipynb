{
  "nbformat": 4,
  "nbformat_minor": 0,
  "metadata": {
    "colab": {
      "name": "graphs.ipynb",
      "provenance": [],
      "collapsed_sections": [],
      "authorship_tag": "ABX9TyPwJG7xc/+/Jx4OGMJZPmno"
    },
    "kernelspec": {
      "name": "python3",
      "display_name": "Python 3"
    }
  },
  "cells": [
    {
      "cell_type": "markdown",
      "metadata": {
        "id": "e-By9Vr6zi6z"
      },
      "source": [
        "# **PLOT**"
      ]
    },
    {
      "cell_type": "markdown",
      "metadata": {
        "id": "brTi51VG1xlR"
      },
      "source": [
        "**import pandas**"
      ]
    },
    {
      "cell_type": "code",
      "metadata": {
        "id": "Mz3MY5p9zpDZ"
      },
      "source": [
        "import pandas as pd\n"
      ],
      "execution_count": 44,
      "outputs": []
    },
    {
      "cell_type": "markdown",
      "metadata": {
        "id": "aw9NyyyU1sYf"
      },
      "source": [
        "**Create Series**"
      ]
    },
    {
      "cell_type": "code",
      "metadata": {
        "id": "qRr_ozLkzwei"
      },
      "source": [
        "grades = pd.Series([12,30,64,20,45] , ['tohamy' , 'mohammed' , 'mostafa' , 'kareem','hesham' ], name=\"grades\" )"
      ],
      "execution_count": 45,
      "outputs": []
    },
    {
      "cell_type": "markdown",
      "metadata": {
        "id": "bHyAYorH1nKK"
      },
      "source": [
        "print Data"
      ]
    },
    {
      "cell_type": "code",
      "metadata": {
        "id": "8HfvfJkX0LE4",
        "outputId": "17eb8e0d-5053-43d6-d9e5-33eaca42ecf4",
        "colab": {
          "base_uri": "https://localhost:8080/"
        }
      },
      "source": [
        "grades"
      ],
      "execution_count": 46,
      "outputs": [
        {
          "output_type": "execute_result",
          "data": {
            "text/plain": [
              "tohamy      12\n",
              "mohammed    30\n",
              "mostafa     64\n",
              "kareem      20\n",
              "hesham      45\n",
              "Name: grades, dtype: int64"
            ]
          },
          "metadata": {
            "tags": []
          },
          "execution_count": 46
        }
      ]
    },
    {
      "cell_type": "markdown",
      "metadata": {
        "id": "1HncrJxp1hMQ"
      },
      "source": [
        "**Create plot**"
      ]
    },
    {
      "cell_type": "code",
      "metadata": {
        "id": "vMXzSTTpz0N6",
        "outputId": "3597515a-3969-4d4d-d5a2-ebf72ecc3f2e",
        "colab": {
          "base_uri": "https://localhost:8080/",
          "height": 283
        }
      },
      "source": [
        "grades.plot()"
      ],
      "execution_count": 47,
      "outputs": [
        {
          "output_type": "execute_result",
          "data": {
            "text/plain": [
              "<matplotlib.axes._subplots.AxesSubplot at 0x7f235538a9e8>"
            ]
          },
          "metadata": {
            "tags": []
          },
          "execution_count": 47
        },
        {
          "output_type": "display_data",
          "data": {
            "image/png": "[encoded data removed]",
            "text/plain": [
              "<Figure size 432x288 with 1 Axes>"
            ]
          },
          "metadata": {
            "tags": [],
            "needs_background": "light"
          }
        }
      ]
    },
    {
      "cell_type": "markdown",
      "metadata": {
        "id": "7ua8ogKk10qR"
      },
      "source": [
        "**pie Shape**"
      ]
    },
    {
      "cell_type": "code",
      "metadata": {
        "id": "0kHM9Ah41EiY",
        "outputId": "13f30620-8fc5-4ee4-b019-defc692410d0",
        "colab": {
          "base_uri": "https://localhost:8080/",
          "height": 266
        }
      },
      "source": [
        "grades.plot(kind ='pie')"
      ],
      "execution_count": 48,
      "outputs": [
        {
          "output_type": "execute_result",
          "data": {
            "text/plain": [
              "<matplotlib.axes._subplots.AxesSubplot at 0x7f23552f5e10>"
            ]
          },
          "metadata": {
            "tags": []
          },
          "execution_count": 48
        },
        {
          "output_type": "display_data",
          "data": {
            "image/png": "[encoded data removed]",
            "text/plain": [
              "<Figure size 432x288 with 1 Axes>"
            ]
          },
          "metadata": {
            "tags": []
          }
        }
      ]
    },
    {
      "cell_type": "markdown",
      "metadata": {
        "id": "pSFLWMN6158f"
      },
      "source": [
        "**Line Shape**"
      ]
    },
    {
      "cell_type": "code",
      "metadata": {
        "id": "jIyr7k-b1bQ4",
        "outputId": "9f17c0c6-4711-4bc0-ded6-8c0d3b769423",
        "colab": {
          "base_uri": "https://localhost:8080/",
          "height": 283
        }
      },
      "source": [
        "grades.plot(kind ='line')"
      ],
      "execution_count": 49,
      "outputs": [
        {
          "output_type": "execute_result",
          "data": {
            "text/plain": [
              "<matplotlib.axes._subplots.AxesSubplot at 0x7f23552c06d8>"
            ]
          },
          "metadata": {
            "tags": []
          },
          "execution_count": 49
        },
        {
          "output_type": "display_data",
          "data": {
            "image/png": "[encoded data removed]",
            "text/plain": [
              "<Figure size 432x288 with 1 Axes>"
            ]
          },
          "metadata": {
            "tags": [],
            "needs_background": "light"
          }
        }
      ]
    },
    {
      "cell_type": "markdown",
      "metadata": {
        "id": "JSnSkIN12H9Y"
      },
      "source": [
        "**Bar Shape**"
      ]
    },
    {
      "cell_type": "code",
      "metadata": {
        "id": "fdTH83IO2NiH",
        "outputId": "d66b2115-f2c4-4cfe-9917-c87a672993f3",
        "colab": {
          "base_uri": "https://localhost:8080/",
          "height": 333
        }
      },
      "source": [
        "grades.plot(kind ='bar')"
      ],
      "execution_count": 50,
      "outputs": [
        {
          "output_type": "execute_result",
          "data": {
            "text/plain": [
              "<matplotlib.axes._subplots.AxesSubplot at 0x7f23552acf98>"
            ]
          },
          "metadata": {
            "tags": []
          },
          "execution_count": 50
        },
        {
          "output_type": "display_data",
          "data": {
            "image/png": "[encoded data removed]",
            "text/plain": [
              "<Figure size 432x288 with 1 Axes>"
            ]
          },
          "metadata": {
            "tags": [],
            "needs_background": "light"
          }
        }
      ]
    },
    {
      "cell_type": "markdown",
      "metadata": {
        "id": "DDDRpgOJ2UJY"
      },
      "source": [
        "**Barh Shape**"
      ]
    },
    {
      "cell_type": "code",
      "metadata": {
        "id": "QVJ7K33C2Z1H",
        "outputId": "6bee11a2-70fe-42ac-fa4f-a2f711dc1e83",
        "colab": {
          "base_uri": "https://localhost:8080/",
          "height": 283
        }
      },
      "source": [
        "grades.plot(kind ='barh')"
      ],
      "execution_count": 51,
      "outputs": [
        {
          "output_type": "execute_result",
          "data": {
            "text/plain": [
              "<matplotlib.axes._subplots.AxesSubplot at 0x7f2355219ac8>"
            ]
          },
          "metadata": {
            "tags": []
          },
          "execution_count": 51
        },
        {
          "output_type": "display_data",
          "data": {
            "image/png": "[encoded data removed]",
            "text/plain": [
              "<Figure size 432x288 with 1 Axes>"
            ]
          },
          "metadata": {
            "tags": [],
            "needs_background": "light"
          }
        }
      ]
    },
    {
      "cell_type": "markdown",
      "metadata": {
        "id": "gl-nTLnn2hPn"
      },
      "source": [
        "**hist shape**"
      ]
    },
    {
      "cell_type": "code",
      "metadata": {
        "id": "Avcki3lI2mqA",
        "outputId": "014445dc-d493-4744-c8bc-93edf7eef014",
        "colab": {
          "base_uri": "https://localhost:8080/",
          "height": 283
        }
      },
      "source": [
        "grades.plot(kind ='hist')"
      ],
      "execution_count": 52,
      "outputs": [
        {
          "output_type": "execute_result",
          "data": {
            "text/plain": [
              "<matplotlib.axes._subplots.AxesSubplot at 0x7f2355180908>"
            ]
          },
          "metadata": {
            "tags": []
          },
          "execution_count": 52
        },
        {
          "output_type": "display_data",
          "data": {
            "image/png": "[encoded data removed]",
            "text/plain": [
              "<Figure size 432x288 with 1 Axes>"
            ]
          },
          "metadata": {
            "tags": [],
            "needs_background": "light"
          }
        }
      ]
    },
    {
      "cell_type": "markdown",
      "metadata": {
        "id": "xVfJz3Z95aj4"
      },
      "source": [
        "**Kde Shape**"
      ]
    },
    {
      "cell_type": "code",
      "metadata": {
        "id": "ScvAzt0D5dNI",
        "outputId": "6e4c68c6-4a3b-4494-cbdb-f4c768c15e1d",
        "colab": {
          "base_uri": "https://localhost:8080/",
          "height": 283
        }
      },
      "source": [
        "grades.plot(kind ='kde')"
      ],
      "execution_count": 53,
      "outputs": [
        {
          "output_type": "execute_result",
          "data": {
            "text/plain": [
              "<matplotlib.axes._subplots.AxesSubplot at 0x7f2355102630>"
            ]
          },
          "metadata": {
            "tags": []
          },
          "execution_count": 53
        },
        {
          "output_type": "display_data",
          "data": {
            "image/png": "[encoded data removed]",
            "text/plain": [
              "<Figure size 432x288 with 1 Axes>"
            ]
          },
          "metadata": {
            "tags": [],
            "needs_background": "light"
          }
        }
      ]
    },
    {
      "cell_type": "markdown",
      "metadata": {
        "id": "TEYpqS8y53k2"
      },
      "source": [
        "**Area Shape**"
      ]
    },
    {
      "cell_type": "code",
      "metadata": {
        "id": "5PCgQENz53LQ",
        "outputId": "7e22e96a-6986-4f5a-e6da-04b7779e5107",
        "colab": {
          "base_uri": "https://localhost:8080/",
          "height": 283
        }
      },
      "source": [
        "grades.plot(kind ='area')"
      ],
      "execution_count": 54,
      "outputs": [
        {
          "output_type": "execute_result",
          "data": {
            "text/plain": [
              "<matplotlib.axes._subplots.AxesSubplot at 0x7f23550ec438>"
            ]
          },
          "metadata": {
            "tags": []
          },
          "execution_count": 54
        },
        {
          "output_type": "display_data",
          "data": {
            "image/png": "[encoded data removed]",
            "text/plain": [
              "<Figure size 432x288 with 1 Axes>"
            ]
          },
          "metadata": {
            "tags": [],
            "needs_background": "light"
          }
        }
      ]
    },
    {
      "cell_type": "markdown",
      "metadata": {
        "id": "oWbAsxgb3RdA"
      },
      "source": [
        "**Box Shape**"
      ]
    },
    {
      "cell_type": "code",
      "metadata": {
        "id": "e2G_Clzg3RLJ",
        "outputId": "ce7d2700-9687-4e09-d146-fe1cad93da32",
        "colab": {
          "base_uri": "https://localhost:8080/",
          "height": 283
        }
      },
      "source": [
        "grades.plot(kind ='box')"
      ],
      "execution_count": 55,
      "outputs": [
        {
          "output_type": "execute_result",
          "data": {
            "text/plain": [
              "<matplotlib.axes._subplots.AxesSubplot at 0x7f235503e6a0>"
            ]
          },
          "metadata": {
            "tags": []
          },
          "execution_count": 55
        },
        {
          "output_type": "display_data",
          "data": {
            "image/png": "[encoded data removed]",
            "text/plain": [
              "<Figure size 432x288 with 1 Axes>"
            ]
          },
          "metadata": {
            "tags": [],
            "needs_background": "light"
          }
        }
      ]
    }
  ]
}